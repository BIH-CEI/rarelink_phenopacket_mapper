{
 "cells": [
  {
   "cell_type": "markdown",
   "source": [
    "# ERDRI CDS\n",
    "The \"Set of common data elements for Rare Diseases Registration\" is the first practical instrument released by the EU RD Platform aiming at increasing interoperability of RD registries.\n",
    "\n",
    "It contains 16 data elements to be registered by each rare disease registry across Europe, which are considered to be essential for further research. They refer to patient's personal data, diagnosis, disease history and care pathway, information for research purposes and about disability.\n",
    "\n",
    "The \"Set of common data elements for Rare Diseases Registration\" was produced by a Working Group coordinated by the JRC and composed of experts from EU projects which worked on common data sets: EUCERD Joint Action, EPIRARE and RD-Connect.\n",
    "\n",
    "[Source](https://eu-rd-platform.jrc.ec.europa.eu/set-of-common-data-elements_en)\n",
    "\n",
    "## 1. Defining the ERDRI CDS Data Model\n",
    "Instead of loading in a data model from a file, we can also create a data model by defining it in code. This skips the parsing step and allows us to define the data model in a more flexible way."
   ],
   "metadata": {
    "collapsed": false
   },
   "id": "4136c82e033ede7e"
  },
  {
   "cell_type": "markdown",
   "source": [
    "![ERDRI CDS](../res/imgs/notebooks/erdri_cds1.png)\n",
    "![ERDRI CDS](../res/imgs/notebooks/erdri_cds2.png)"
   ],
   "metadata": {
    "collapsed": false
   },
   "id": "40c162ba8c69dfb7"
  },
  {
   "cell_type": "markdown",
   "source": [
    "### 1.1. Resources\n",
    "\n",
    "Every data model in the modern digital health environment will probably rely on at least one or more code systems. Code systems might include terminologies, classifications, or ontologies. Popular code systems include LOINC, SNOMED CT, ICD-10, and Orphanet Rare Disease Ontology (ORDO).\n",
    "\n",
    "In this case, we will use the following code systems (in order as listed in the CODING column of the ERDRI CDS data model above):\n",
    "- [ORDO](https://www.orpha.net/en/disease): Orphanet Rare Disease Ontology\n",
    "- [Alpha-ID-SE](https://www.bfarm.de/EN/Code-systems/Terminologies/Alpha-ID-SE/_node.html): Simplified, uniform and standardised coding of rare diseases according to ICD-10-GM\n",
    "- [ICD-9](https://iris.who.int/handle/10665/39473): International Classification of Diseases, Ninth Revision\n",
    "- [ICD-9-CM](https://archive.cdc.gov/www_cdc_gov/nchs/icd/icd9cm.htm#:~:text=ICD%2D9%2DCM%20is%20the,10%20for%20mortality%20coding%20started.): International Classification of Diseases, Ninth Revision, Clinical Modification\n",
    "- [ICD-10](https://www.who.int/classifications/icd/en/): International Classification of Diseases, Tenth Revision\n",
    "- [HGVS](https://hgvs.org/): Human Genome Variation Society\n",
    "- [HGNC](https://www.genenames.org/): HUGO Gene Nomenclature Committee\n",
    "- [OMIM](https://www.omim.org/): Online Mendelian Inheritance in Man\n",
    "- [HPO](https://hpo.jax.org/): Human Phenotype Ontology\n",
    "\n",
    "\n",
    "There are already some popular code systems predefined in the `phenopacket_mapper` package. We can use them directly in our data model. Although optional, it is recommended to add the correct or most recent version to each code system. This will help to ensure that the code system is correctly identified and used in the data model.\n",
    "\n",
    "The versions added below are the most recent at the time of writing this notebook. You can check for the most recent version of each code system on the respective website."
   ],
   "metadata": {
    "collapsed": false
   },
   "id": "bc862033c73cc43b"
  },
  {
   "cell_type": "code",
   "source": [
    "import phenopacket_mapper"
   ],
   "metadata": {
    "collapsed": false,
    "ExecuteTime": {
     "end_time": "2024-10-04T12:31:24.311691Z",
     "start_time": "2024-10-04T12:31:24.308967Z"
    }
   },
   "id": "fc1e29f9e0c18364",
   "outputs": [],
   "execution_count": 65
  },
  {
   "cell_type": "code",
   "source": "from phenopacket_mapper.data_standards.code_system import ORDO, ICD9, HGVS, HGNC, OMIM, HPO , SNOMED_CT",
   "metadata": {
    "collapsed": false,
    "ExecuteTime": {
     "end_time": "2024-10-04T12:31:24.346999Z",
     "start_time": "2024-10-04T12:31:24.343731Z"
    }
   },
   "id": "a86f24df0f21ca85",
   "outputs": [],
   "execution_count": 66
  },
  {
   "cell_type": "code",
   "id": "initial_id",
   "metadata": {
    "collapsed": true,
    "ExecuteTime": {
     "end_time": "2024-10-04T12:31:24.359730Z",
     "start_time": "2024-10-04T12:31:24.355952Z"
    }
   },
   "source": [
    "resources = [\n",
    "    ORDO.set_version(\"1.0.19 (2024-08-02)\"),\n",
    "    ICD9,\n",
    "    HGVS.set_version(\"21.0.4 (2024-08-15)\"),\n",
    "    HGNC.set_version(\"2024-08-23\"),\n",
    "    OMIM.set_version(\"2024-09-12\"),\n",
    "    HPO.set_version(\"2024-06-07\")\n",
    "]"
   ],
   "outputs": [],
   "execution_count": 67
  },
  {
   "cell_type": "markdown",
   "source": [
    "The keen eyed among you might have spotted that we forgot to add the ICD-9-CM, ICD-10, and Alpha-ID-SE code systems. We can add them to the list of resources by creating a new `CodeSystem` object for each of them. We can then add them to the `resources` list.:"
   ],
   "metadata": {
    "collapsed": false
   },
   "id": "64eb915ba6058aa7"
  },
  {
   "cell_type": "code",
   "source": [
    "from phenopacket_mapper.data_standards.code_system import CodeSystem"
   ],
   "metadata": {
    "collapsed": false,
    "ExecuteTime": {
     "end_time": "2024-10-04T12:31:24.369740Z",
     "start_time": "2024-10-04T12:31:24.367338Z"
    }
   },
   "id": "c667e5760e734525",
   "outputs": [],
   "execution_count": 68
  },
  {
   "cell_type": "code",
   "source": [
    "alpha = CodeSystem(name='Alpha-ID-SE', namespace_prefix='alpha', url='https://www.bfarm.de/EN/Code-systems/Terminologies/Alpha-ID-SE/_node.html')\n",
    "icd9cm = CodeSystem(name='International Classification of Diseases 9 Clinical Modification (USA)', namespace_prefix='icd-9-cm', url='http://hl7.org/fhir/sid/icd-9-cm')\n",
    "icd10 = CodeSystem(name='International Classification of Diseases 10 (WHO)', namespace_prefix='icd-10', url='http://hl7.org/fhir/sid/icd-10')"
   ],
   "metadata": {
    "collapsed": false,
    "ExecuteTime": {
     "end_time": "2024-10-04T12:31:24.379490Z",
     "start_time": "2024-10-04T12:31:24.376978Z"
    }
   },
   "id": "2cba20f939e9193a",
   "outputs": [],
   "execution_count": 69
  },
  {
   "cell_type": "code",
   "source": [
    "resources.append(alpha)\n",
    "resources.append(icd9cm)\n",
    "resources.append(icd10)"
   ],
   "metadata": {
    "collapsed": false,
    "ExecuteTime": {
     "end_time": "2024-10-04T12:31:24.389078Z",
     "start_time": "2024-10-04T12:31:24.386726Z"
    }
   },
   "id": "8f763e585095846f",
   "outputs": [],
   "execution_count": 70
  },
  {
   "cell_type": "markdown",
   "source": [
    "### 1.2 Fields of the data model and their value sets\n",
    "\n",
    "As you can see above, the ERDRI CDS are made up of 8 sections with a total of 16 fields. Each field has a name, a description, and a value set. The value set is a list of possible values that the field can take, such as a list of codings, strings or numerical values to choose from. Another option is to restrict values in a field to a possible data type (e.g., string), code system (e.g., ORDO), a date, etc.\n",
    "\n",
    "However, to limit the complexity of this example, we will omit the 7th and 8th sections, as they are also difficult to model in phenopackets. We will focus on the first 6 sections, containing 11 fields.\n",
    "\n",
    "We will start here by defining the value sets of all the fields in the ERDRI CDS data model. We will use the code systems we defined above to define the value sets of the fields."
   ],
   "metadata": {
    "collapsed": false
   },
   "id": "99c28edc00c4e0cd"
  },
  {
   "cell_type": "code",
   "source": [
    "from phenopacket_mapper.data_standards.value_set import ValueSet"
   ],
   "metadata": {
    "collapsed": false,
    "ExecuteTime": {
     "end_time": "2024-10-04T12:31:24.398479Z",
     "start_time": "2024-10-04T12:31:24.396419Z"
    }
   },
   "id": "da099dfff150c4c3",
   "outputs": [],
   "execution_count": 71
  },
  {
   "cell_type": "markdown",
   "source": [
    "We will start by defining the value set for the first field of the ERDRI CDS data model, which is the pseudonym. The pseudonym is a string, so we will define a value set with the element type set to `str`. We will also add a name and description to the value set to make it easier to identify later on."
   ],
   "metadata": {
    "collapsed": false
   },
   "id": "8fa07242b964f91f"
  },
  {
   "cell_type": "code",
   "source": [
    "# 1. Pseudonym\n",
    "# 1.1. Pseudonym\n",
    "vs_1_1 = ValueSet(\n",
    "    elements=[str],\n",
    "    name=\"Value set for 1.1. Pseudonym\",\n",
    "    description=\"Value set for field 1.1. Pseudonym of the ERDRI CDS data model in section 1. Pseudonym\",\n",
    ")"
   ],
   "metadata": {
    "collapsed": false,
    "ExecuteTime": {
     "end_time": "2024-10-04T12:31:24.408016Z",
     "start_time": "2024-10-04T12:31:24.405509Z"
    }
   },
   "id": "858ac0c5006d3eb2",
   "outputs": [],
   "execution_count": 72
  },
  {
   "cell_type": "markdown",
   "source": [
    "Next, we get to the section about personal information. Here the first field is the date of birth. The date of birth is a date, so we will define a value set with the element type set to the `Date` type provided by `phenopacket-mapper`."
   ],
   "metadata": {
    "collapsed": false
   },
   "id": "e0dde2a43fb89d51"
  },
  {
   "cell_type": "code",
   "source": [
    "from phenopacket_mapper.data_standards import Date"
   ],
   "metadata": {
    "collapsed": false,
    "ExecuteTime": {
     "end_time": "2024-10-04T12:31:24.426730Z",
     "start_time": "2024-10-04T12:31:24.424330Z"
    }
   },
   "id": "df11e0fe55d695b3",
   "outputs": [],
   "execution_count": 73
  },
  {
   "cell_type": "code",
   "source": [
    "# 2. Personal information\n",
    "# 2.1. Date of Birth\n",
    "vs_2_1 = ValueSet(\n",
    "    elements=[Date],\n",
    "    name=\"Value set for 2.1. Date of Birth\",\n",
    "    description=\"Value set for field 2.1. Date of Birth of the ERDRI CDS data model in section 2. Personal information\",\n",
    ")"
   ],
   "metadata": {
    "collapsed": false,
    "ExecuteTime": {
     "end_time": "2024-10-04T12:31:24.435990Z",
     "start_time": "2024-10-04T12:31:24.432923Z"
    }
   },
   "id": "1ce5edd4f1bff64f",
   "outputs": [],
   "execution_count": 74
  },
  {
   "cell_type": "markdown",
   "source": [
    "The next field: \"Sex\" is a categorical field with four possible values: \n",
    "- Female,\n",
    "- Male,\n",
    "- Undetermined, and\n",
    "- Foetus (Unknown). \n",
    "\n",
    "It is to be noted that it is generally recommended to encode concepts with an internationally recognized code system. However, in this case the authors of the ERDRI CDS data model have not specified a code system for the field, making things easier for us. \n",
    "\n",
    "The same can be said for field 3.1.\n",
    "\n",
    "At the bottom of this notebook there is an examplary implementation of this field using concepts from the SNOEMD CT code system. The example also introduces you to `CodeableConcept` objects."
   ],
   "metadata": {
    "collapsed": false
   },
   "id": "9d6aace0534206a1"
  },
  {
   "cell_type": "code",
   "source": [
    "# 2.2. Sex\n",
    "vs_2_2 = ValueSet(\n",
    "    elements=[\"Female\", \"Male\", \"Undetermined\", \"Foetus (Unknown)\"],\n",
    "    name=\"Value set for 2.2. Sex\",\n",
    "    description=\"Value set for field 2.2. Sex of the ERDRI CDS data model in section 2. Personal information\",\n",
    ")\n",
    "# 3. Patient Status\n",
    "# 3.1. Patient's status\n",
    "vs_3_1 = ValueSet(\n",
    "    elements=[\"Alive\", \"Dead\", \"Lost in follow-up\", \"Opted-out\"],\n",
    "    name=\"Value set for 3.1. Patient's status\",\n",
    "    description=\"Value set for field 3.1. Patient's status of the ERDRI CDS data model in section 3. Patient Status\",\n",
    ")"
   ],
   "metadata": {
    "collapsed": false,
    "ExecuteTime": {
     "end_time": "2024-10-04T12:31:24.446473Z",
     "start_time": "2024-10-04T12:31:24.443614Z"
    }
   },
   "id": "d60831a9feb5ebb1",
   "outputs": [],
   "execution_count": 75
  },
  {
   "cell_type": "markdown",
   "source": [
    "The field date of death relies on a date value, so we will define a value set with the element type set to the `Date` type provided by `phenopacket-mapper`."
   ],
   "metadata": {
    "collapsed": false
   },
   "id": "6fe00ef735388067"
  },
  {
   "cell_type": "code",
   "source": [
    "# 3.2. Date of death\n",
    "vs_3_2 = ValueSet(\n",
    "    elements=[Date],\n",
    "    name=\"Value set for 3.2. Date of death\",\n",
    "    description=\"Value set for field 3.2. Date of death of the ERDRI CDS data model in section 3. Patient Status\",\n",
    ")"
   ],
   "metadata": {
    "collapsed": false,
    "ExecuteTime": {
     "end_time": "2024-10-04T12:31:24.456443Z",
     "start_time": "2024-10-04T12:31:24.453333Z"
    }
   },
   "id": "8a640c47ec2b23f3",
   "outputs": [],
   "execution_count": 76
  },
  {
   "cell_type": "markdown",
   "source": [
    "Note that we could have also just created a single value set for the date fields and reused it for all the date fields. This would have been more efficient and would have reduced the amount of code we had to write. However, for the sake of clarity, we have defined separate value sets for each field.\n",
    "let's try this for the next field."
   ],
   "metadata": {
    "collapsed": false
   },
   "id": "89cf93a03d119d73"
  },
  {
   "cell_type": "code",
   "source": [
    "# 4. Care Pathway\n",
    "# 4.1. First contact with specialised centre\n",
    "vs_4_1 = ValueSet(\n",
    "    elements=[Date],\n",
    "    name=\"Date value set\",\n",
    "    description=\"Value set for date fields\",\n",
    ")"
   ],
   "metadata": {
    "collapsed": false,
    "ExecuteTime": {
     "end_time": "2024-10-04T12:31:24.466088Z",
     "start_time": "2024-10-04T12:31:24.463543Z"
    }
   },
   "id": "74e09c708d1324a0",
   "outputs": [],
   "execution_count": 77
  },
  {
   "cell_type": "markdown",
   "source": [
    "To implement the next field age at onset, we can use the `extend` method of the `ValueSet` class to create a new value set based on the dat value set but expanded by the values required by 5.1.:\n",
    "- Antenatal\n",
    "- At birth\n",
    "- Undetermined\n",
    "\n",
    "The `extend` function returns an expanded copy of the original value set with the new elements added. The original value set remains unchanged.\n",
    "\n",
    "We can reuse this value set for the next field, age at diagnosis."
   ],
   "metadata": {
    "collapsed": false
   },
   "id": "6204eb9eba7cdfa5"
  },
  {
   "cell_type": "code",
   "source": [
    "# 5. Disease history\n",
    "# 5.1. Age at onset\n",
    "vs_5_1 = vs_4_1.extend(\n",
    "    new_name=\"Onset value set\",\n",
    "    value_set=ValueSet([\"Antenatal\", \"At birth\", \"Undetermined\"])\n",
    ")\n",
    "# 5.2. Age at diagnosis\n",
    "vs_5_2 = vs_5_1"
   ],
   "metadata": {
    "collapsed": false,
    "ExecuteTime": {
     "end_time": "2024-10-04T12:31:24.483517Z",
     "start_time": "2024-10-04T12:31:24.480616Z"
    }
   },
   "id": "3c3c81c9f5602da4",
   "outputs": [],
   "execution_count": 78
  },
  {
   "cell_type": "markdown",
   "source": [
    "The fields in the following section diagnosis are all defined by using codings from code systems. We will define the value sets for these fields using the list of resources we defined above."
   ],
   "metadata": {
    "collapsed": false
   },
   "id": "5f6acfe054e80f5"
  },
  {
   "cell_type": "code",
   "source": [
    "# 6. Diagnosis\n",
    "# 6.1. Diagnosis of the rare disease\n",
    "vs_6_1 = ValueSet(\n",
    "    elements=[ORDO, ICD9, icd9cm, alpha, icd10],\n",
    "    name=\"Value set for 6.1. Diagnosis of the rare disease\",\n",
    "    description=\"Value set for field 6.1. Diagnosis of the rare disease of the ERDRI CDS data model in section 6. Diagnosis\",\n",
    ")\n",
    "# 6.2. Genetic diagnosis\n",
    "vs_6_2 = ValueSet(\n",
    "    elements=[HGVS, HGNC, OMIM],\n",
    "    name=\"Value set for 6.2. Genetic diagnosis\",\n",
    "    description=\"Value set for field 6.2. Genetic diagnosis of the ERDRI CDS data model in section 6. Diagnosis\",\n",
    ")\n",
    "# 6.3. Undiagnosed case\n",
    "vs_6_3 = ValueSet(\n",
    "    elements=[HPO, HGVS],\n",
    "    name=\"Value set for 6.3. Undiagnosed case\",\n",
    "    description=\"Value set for field 6.3. Undiagnosed case of the ERDRI CDS data model in section 6. Diagnosis\",\n",
    ")"
   ],
   "metadata": {
    "collapsed": false,
    "ExecuteTime": {
     "end_time": "2024-10-04T12:31:24.493990Z",
     "start_time": "2024-10-04T12:31:24.491027Z"
    }
   },
   "id": "9f5bcb742f8e05aa",
   "outputs": [],
   "execution_count": 79
  },
  {
   "cell_type": "markdown",
   "source": [
    "### 1.3 Define the `DataModel` object\n",
    "After defining value sets for each field in the ERDRI CDS data model, we can now define the `DataModel` object. The `DataModel` object is the main object that represents the data model. \n",
    "\n",
    "The `DataField` constructor automatically handles turning the name of a field into a valid id in most cases. but sometimes this does not work. In any case, if you wish you can set a custom id for a field by passing it as the `id` parameter to the `DataField` constructor. Read the `DataField` carefully to adhere to the rulnaming rules."
   ],
   "metadata": {
    "collapsed": false
   },
   "id": "aacc945f52dcfbec"
  },
  {
   "cell_type": "code",
   "source": [
    "from phenopacket_mapper.data_standards import DataModel, DataField"
   ],
   "metadata": {
    "collapsed": false,
    "ExecuteTime": {
     "end_time": "2024-10-04T12:31:24.503597Z",
     "start_time": "2024-10-04T12:31:24.501288Z"
    }
   },
   "id": "4a1f2ec5fbdf96c",
   "outputs": [],
   "execution_count": 80
  },
  {
   "cell_type": "code",
   "source": [
    "erdri_cds_data_model = DataModel(\n",
    "    data_model_name=\"ERDRI CDS\",\n",
    "    resources=resources,\n",
    "    fields=[\n",
    "        # 1. Pseudonym\n",
    "        # 1.1. Pseudonym\n",
    "        DataField(section=\"1. Pseudonym\", ordinal=\"1.1\", name=\"Pseudonym\", value_set=vs_1_1, required=True),\n",
    "\n",
    "        # 2. Personal information\n",
    "        # 2.1. Date of Birth\n",
    "        DataField(section=\"2. Personal information\", ordinal=\"2.1\", name=\"Date of Birth\", value_set=vs_2_1, required=True),\n",
    "        # 2.2. Sex\n",
    "        DataField(section=\"2. Personal information\", ordinal=\"2.2\", name=\"Sex\", value_set=vs_2_2, required=True),\n",
    "        \n",
    "        # 3. Patient Status\n",
    "        # 3.1. Patient's status\n",
    "        DataField(section=\"3. Patient Status\", ordinal=\"3.1\", name=\"Patient's status\", value_set=vs_3_1, required=True),\n",
    "        # 3.2. Date of death\n",
    "        DataField(section=\"3. Patient Status\", ordinal=\"3.2\", name=\"Date of death\", value_set=vs_3_2, required=False),\n",
    "        \n",
    "        # 4. Care Pathway\n",
    "        # 4.1. First contact with specialised centre\n",
    "        DataField(section=\"4. Care Pathway\", ordinal=\"4.1\", name=\"First contact with specialised centre\", value_set=vs_4_1),\n",
    "        \n",
    "        # 5. Disease history\n",
    "        # 5.1. Age at onset\n",
    "        DataField(section=\"5. Disease history\", ordinal=\"5.1\", name=\"Age at onset\", value_set=vs_5_1),\n",
    "        # 5.2. Age at diagnosis\n",
    "        DataField(section=\"5. Disease history\", ordinal=\"5.2\", name=\"Age at diagnosis\", value_set=vs_5_2),\n",
    "        \n",
    "        # 6. Diagnosis\n",
    "        # 6.1. Diagnosis of the rare disease\n",
    "        DataField(section=\"6. Diagnosis\", ordinal=\"6.1\", name=\"Diagnosis of the rare disease\", value_set=vs_6_1),\n",
    "        # 6.2. Genetic diagnosis\n",
    "        DataField(section=\"6. Diagnosis\", ordinal=\"6.2\", name=\"Genetic diagnosis\", value_set=vs_6_2),\n",
    "        # 6.3. Undiagnosed case\n",
    "        DataField(section=\"6. Diagnosis\", ordinal=\"6.3\", name=\"Undiagnosed case\", value_set=vs_6_3),\n",
    "    ]\n",
    ")"
   ],
   "metadata": {
    "collapsed": false,
    "ExecuteTime": {
     "end_time": "2024-10-04T12:31:24.515349Z",
     "start_time": "2024-10-04T12:31:24.511030Z"
    }
   },
   "id": "79550015aac215",
   "outputs": [],
   "execution_count": 81
  },
  {
   "cell_type": "code",
   "source": [
    "print(erdri_cds_data_model)"
   ],
   "metadata": {
    "collapsed": false,
    "ExecuteTime": {
     "end_time": "2024-10-04T12:31:24.546555Z",
     "start_time": "2024-10-04T12:31:24.543356Z"
    }
   },
   "id": "b89630b2b3d91a3e",
   "outputs": [
    {
     "name": "stdout",
     "output_type": "stream",
     "text": [
      "DataModel(name=ERDRI CDS\n",
      "\tDataField(\n",
      "\t\tid: pseudonym,\n",
      "\t\tsection: 1. Pseudonym,\n",
      "\t\tordinal, name: (1.1,  Pseudonym),\n",
      "\t\tvalue_set: ValueSet(elements=[<class 'str'>], name='Value set for 1.1. Pseudonym', description='Value set for field 1.1. Pseudonym of the ERDRI CDS data model in section 1. Pseudonym'), required: True,\n",
      "\t\tspecification: \n",
      "\t)\n",
      "\tDataField(\n",
      "\t\tid: date_of_birth,\n",
      "\t\tsection: 2. Personal information,\n",
      "\t\tordinal, name: (2.1,  Date of Birth),\n",
      "\t\tvalue_set: ValueSet(elements=[<class 'phenopacket_mapper.data_standards.date.Date'>], name='Value set for 2.1. Date of Birth', description='Value set for field 2.1. Date of Birth of the ERDRI CDS data model in section 2. Personal information'), required: True,\n",
      "\t\tspecification: \n",
      "\t)\n",
      "\tDataField(\n",
      "\t\tid: sex,\n",
      "\t\tsection: 2. Personal information,\n",
      "\t\tordinal, name: (2.2,  Sex),\n",
      "\t\tvalue_set: ValueSet(elements=['Female', 'Male', 'Undetermined', 'Foetus (Unknown)'], name='Value set for 2.2. Sex', description='Value set for field 2.2. Sex of the ERDRI CDS data model in section 2. Personal information'), required: True,\n",
      "\t\tspecification: \n",
      "\t)\n",
      "\tDataField(\n",
      "\t\tid: patient_s_status,\n",
      "\t\tsection: 3. Patient Status,\n",
      "\t\tordinal, name: (3.1,  Patient's status),\n",
      "\t\tvalue_set: ValueSet(elements=['Alive', 'Dead', 'Lost in follow-up', 'Opted-out'], name=\"Value set for 3.1. Patient's status\", description=\"Value set for field 3.1. Patient's status of the ERDRI CDS data model in section 3. Patient Status\"), required: True,\n",
      "\t\tspecification: \n",
      "\t)\n",
      "\tDataField(\n",
      "\t\tid: date_of_death,\n",
      "\t\tsection: 3. Patient Status,\n",
      "\t\tordinal, name: (3.2,  Date of death),\n",
      "\t\tvalue_set: ValueSet(elements=[<class 'phenopacket_mapper.data_standards.date.Date'>], name='Value set for 3.2. Date of death', description='Value set for field 3.2. Date of death of the ERDRI CDS data model in section 3. Patient Status'), required: False,\n",
      "\t\tspecification: \n",
      "\t)\n",
      "\tDataField(\n",
      "\t\tid: first_contact_with_specialised_centre,\n",
      "\t\tsection: 4. Care Pathway,\n",
      "\t\tordinal, name: (4.1,  First contact with specialised centre),\n",
      "\t\tvalue_set: ValueSet(elements=[<class 'phenopacket_mapper.data_standards.date.Date'>], name='Date value set', description='Value set for date fields'), required: True,\n",
      "\t\tspecification: \n",
      "\t)\n",
      "\tDataField(\n",
      "\t\tid: age_at_onset,\n",
      "\t\tsection: 5. Disease history,\n",
      "\t\tordinal, name: (5.1,  Age at onset),\n",
      "\t\tvalue_set: ValueSet(elements=['Antenatal', 'Undetermined', 'At birth', <class 'phenopacket_mapper.data_standards.date.Date'>], name='Onset value set', description=''), required: True,\n",
      "\t\tspecification: \n",
      "\t)\n",
      "\tDataField(\n",
      "\t\tid: age_at_diagnosis,\n",
      "\t\tsection: 5. Disease history,\n",
      "\t\tordinal, name: (5.2,  Age at diagnosis),\n",
      "\t\tvalue_set: ValueSet(elements=['Antenatal', 'Undetermined', 'At birth', <class 'phenopacket_mapper.data_standards.date.Date'>], name='Onset value set', description=''), required: True,\n",
      "\t\tspecification: \n",
      "\t)\n",
      "\tDataField(\n",
      "\t\tid: diagnosis_of_the_rare_disease,\n",
      "\t\tsection: 6. Diagnosis,\n",
      "\t\tordinal, name: (6.1,  Diagnosis of the rare disease),\n",
      "\t\tvalue_set: ValueSet(elements=[CodeSystem(name=Orphanet Rare Disease Ontology, name space prefix=ORPHA, version=0.0.0), CodeSystem(name=International Classification of Diseases, Ninth Revision, name space prefix=ICD9, version=0.0.0), CodeSystem(name=International Classification of Diseases 9 Clinical Modification (USA), name space prefix=icd-9-cm, version=0.0.0), CodeSystem(name=Alpha-ID-SE, name space prefix=alpha, version=0.0.0), CodeSystem(name=International Classification of Diseases 10 (WHO), name space prefix=icd-10, version=0.0.0)], name='Value set for 6.1. Diagnosis of the rare disease', description='Value set for field 6.1. Diagnosis of the rare disease of the ERDRI CDS data model in section 6. Diagnosis'), required: True,\n",
      "\t\tspecification: \n",
      "\t)\n",
      "\tDataField(\n",
      "\t\tid: genetic_diagnosis,\n",
      "\t\tsection: 6. Diagnosis,\n",
      "\t\tordinal, name: (6.2,  Genetic diagnosis),\n",
      "\t\tvalue_set: ValueSet(elements=[CodeSystem(name=Human Genome Variation Society, name space prefix=HGVS, version=0.0.0), CodeSystem(name=HUGO Gene Nomenclature Committee, name space prefix=HGNC, version=0.0.0), CodeSystem(name=Online Mendelian Inheritance, name space prefix=OMIM, version=0.0.0)], name='Value set for 6.2. Genetic diagnosis', description='Value set for field 6.2. Genetic diagnosis of the ERDRI CDS data model in section 6. Diagnosis'), required: True,\n",
      "\t\tspecification: \n",
      "\t)\n",
      "\tDataField(\n",
      "\t\tid: undiagnosed_case,\n",
      "\t\tsection: 6. Diagnosis,\n",
      "\t\tordinal, name: (6.3,  Undiagnosed case),\n",
      "\t\tvalue_set: ValueSet(elements=[CodeSystem(name=Human Phenotype Ontology, name space prefix=HP, version=0.0.0), CodeSystem(name=Human Genome Variation Society, name space prefix=HGVS, version=0.0.0)], name='Value set for 6.3. Undiagnosed case', description='Value set for field 6.3. Undiagnosed case of the ERDRI CDS data model in section 6. Diagnosis'), required: True,\n",
      "\t\tspecification: \n",
      "\t)\n",
      "---\n",
      "\tCodeSystem(name=Orphanet Rare Disease Ontology, name space prefix=ORPHA, version=1.0.19 (2024-08-02))\n",
      "\tCodeSystem(name=International Classification of Diseases, Ninth Revision, name space prefix=ICD9, version=0.0.0)\n",
      "\tCodeSystem(name=Human Genome Variation Society, name space prefix=HGVS, version=21.0.4 (2024-08-15))\n",
      "\tCodeSystem(name=HUGO Gene Nomenclature Committee, name space prefix=HGNC, version=2024-08-23)\n",
      "\tCodeSystem(name=Online Mendelian Inheritance, name space prefix=OMIM, version=2024-09-12)\n",
      "\tCodeSystem(name=Human Phenotype Ontology, name space prefix=HP, version=2024-06-07)\n",
      "\tCodeSystem(name=Alpha-ID-SE, name space prefix=alpha, version=0.0.0)\n",
      "\tCodeSystem(name=International Classification of Diseases 9 Clinical Modification (USA), name space prefix=icd-9-cm, version=0.0.0)\n",
      "\tCodeSystem(name=International Classification of Diseases 10 (WHO), name space prefix=icd-10, version=0.0.0)\n",
      ")\n"
     ]
    }
   ],
   "execution_count": 82
  },
  {
   "cell_type": "markdown",
   "source": [
    "We can now access specific `DataField`s of the `DataModel` by using their id. \n",
    "\n",
    "E.g., we can get the date of birth field as follows:"
   ],
   "metadata": {
    "collapsed": false
   },
   "id": "76dae8cb6f276202"
  },
  {
   "cell_type": "code",
   "source": [
    "erdri_cds_data_model.date_of_birth"
   ],
   "metadata": {
    "collapsed": false,
    "ExecuteTime": {
     "end_time": "2024-10-04T12:31:24.595102Z",
     "start_time": "2024-10-04T12:31:24.591133Z"
    }
   },
   "id": "b7123400f775fc59",
   "outputs": [
    {
     "data": {
      "text/plain": [
       "DataField(name='Date of Birth', value_set=ValueSet(elements=[<class 'phenopacket_mapper.data_standards.date.Date'>], name='Value set for 2.1. Date of Birth', description='Value set for field 2.1. Date of Birth of the ERDRI CDS data model in section 2. Personal information'), id='date_of_birth', description='', section='2. Personal information', required=True, specification='', ordinal='2.1')"
      ]
     },
     "execution_count": 83,
     "metadata": {},
     "output_type": "execute_result"
    }
   ],
   "execution_count": 83
  },
  {
   "cell_type": "markdown",
   "source": [
    "## 2. Load data using the ERDRI CDS Data Model"
   ],
   "metadata": {
    "collapsed": false
   },
   "id": "caf7450512393851"
  },
  {
   "cell_type": "code",
   "source": [
    "print(erdri_cds_data_model.get_field_ids())"
   ],
   "metadata": {
    "collapsed": false,
    "ExecuteTime": {
     "end_time": "2024-10-04T12:31:24.642751Z",
     "start_time": "2024-10-04T12:31:24.639568Z"
    }
   },
   "id": "eb2e06f9d4005547",
   "outputs": [
    {
     "name": "stdout",
     "output_type": "stream",
     "text": [
      "['pseudonym', 'date_of_birth', 'sex', 'patient_s_status', 'date_of_death', 'first_contact_with_specialised_centre', 'age_at_onset', 'age_at_diagnosis', 'diagnosis_of_the_rare_disease', 'genetic_diagnosis', 'undiagnosed_case']\n"
     ]
    }
   ],
   "execution_count": 84
  },
  {
   "cell_type": "code",
   "source": [
    "from phenopacket_mapper.pipeline import load_data_using_data_model\n",
    "from pathlib import Path"
   ],
   "metadata": {
    "collapsed": false,
    "ExecuteTime": {
     "end_time": "2024-10-04T12:31:24.682926Z",
     "start_time": "2024-10-04T12:31:24.680287Z"
    }
   },
   "id": "d296198b6c5536a0",
   "outputs": [],
   "execution_count": 85
  },
  {
   "cell_type": "code",
   "source": [
    "data_path = Path('../res/test_data/erdri/erdri_cds_test_data.xlsx')"
   ],
   "metadata": {
    "collapsed": false,
    "ExecuteTime": {
     "end_time": "2024-10-04T12:31:24.695315Z",
     "start_time": "2024-10-04T12:31:24.692813Z"
    }
   },
   "id": "3ed78087bf5fcdf",
   "outputs": [],
   "execution_count": 86
  },
  {
   "cell_type": "code",
   "source": [
    "ds = erdri_cds_data_model.load_data(\n",
    "    path = data_path,\n",
    "    pseudonym_column=\"1.1. Pseudonym\",\n",
    "    date_of_birth_column= \"2.1. Date of Birth\",\n",
    "    sex_column= \"2.2. Sex\",\n",
    "    patient_s_status_column= \"3.1. Patient's status\",\n",
    "    date_of_death_column= \"3.2. Date of death\",\n",
    "    first_contact_with_specialised_centre_column= \"4.1. First contact with specialised centre\",\n",
    "    age_at_onset_column= \"5.1. Age at onset\",\n",
    "    age_at_diagnosis_column= \"5.2. Age at diagnosis\",\n",
    "    diagnosis_of_the_rare_disease_column= \"6.1. Diagnosis of the rare disease\",\n",
    "    genetic_diagnosis_column= \"6.2. Genetic diagnosis\",\n",
    "    undiagnosed_case_column= None,\n",
    "    \n",
    "    compliance='soft'  # 'soft' or 'hard'\n",
    ")"
   ],
   "metadata": {
    "collapsed": false,
    "ExecuteTime": {
     "end_time": "2024-10-04T12:31:24.727757Z",
     "start_time": "2024-10-04T12:31:24.715772Z"
    }
   },
   "id": "2253ecd35c94e0d1",
   "outputs": [
    {
     "name": "stderr",
     "output_type": "stream",
     "text": [
      "C:\\Users\\filip\\OneDrive\\Documents\\dataspell\\phenopacket_mapper\\src\\phenopacket_mapper\\data_standards\\data_model.py:358: UserWarning: Required fields are missing in the instance. (row 0) \n",
      "(missing_fields=undiagnosed_case)\n",
      "  warnings.warn(error_msg)\n",
      "C:\\Users\\filip\\OneDrive\\Documents\\dataspell\\phenopacket_mapper\\src\\phenopacket_mapper\\data_standards\\data_model.py:358: UserWarning: Required fields are missing in the instance. (row 1) \n",
      "(missing_fields=undiagnosed_case)\n",
      "  warnings.warn(error_msg)\n",
      "C:\\Users\\filip\\OneDrive\\Documents\\dataspell\\phenopacket_mapper\\src\\phenopacket_mapper\\data_standards\\data_model.py:358: UserWarning: Required fields are missing in the instance. (row 2) \n",
      "(missing_fields=undiagnosed_case)\n",
      "  warnings.warn(error_msg)\n",
      "C:\\Users\\filip\\OneDrive\\Documents\\dataspell\\phenopacket_mapper\\src\\phenopacket_mapper\\data_standards\\data_model.py:358: UserWarning: Required fields are missing in the instance. (row 3) \n",
      "(missing_fields=undiagnosed_case)\n",
      "  warnings.warn(error_msg)\n",
      "C:\\Users\\filip\\OneDrive\\Documents\\dataspell\\phenopacket_mapper\\src\\phenopacket_mapper\\data_standards\\data_model.py:358: UserWarning: Required fields are missing in the instance. (row 4) \n",
      "(missing_fields=genetic_diagnosis, undiagnosed_case)\n",
      "  warnings.warn(error_msg)\n",
      "C:\\Users\\filip\\OneDrive\\Documents\\dataspell\\phenopacket_mapper\\src\\phenopacket_mapper\\data_standards\\data_model.py:358: UserWarning: Required fields are missing in the instance. (row 5) \n",
      "(missing_fields=undiagnosed_case)\n",
      "  warnings.warn(error_msg)\n",
      "C:\\Users\\filip\\OneDrive\\Documents\\dataspell\\phenopacket_mapper\\src\\phenopacket_mapper\\data_standards\\data_model.py:129: UserWarning: Value False of type <class 'bool'> is not in the value set of field Sex (row 6)\n",
      "  warnings.warn(f\"Value {self.value} of type {type(self.value)} is not in the value set of field \"\n",
      "C:\\Users\\filip\\OneDrive\\Documents\\dataspell\\phenopacket_mapper\\src\\phenopacket_mapper\\data_standards\\data_model.py:344: UserWarning: Instance values do not comply with their respective fields' valuesets. (row 6)\n",
      "  warnings.warn(error_msg)\n",
      "C:\\Users\\filip\\OneDrive\\Documents\\dataspell\\phenopacket_mapper\\src\\phenopacket_mapper\\data_standards\\data_model.py:129: UserWarning: Value m of type <class 'str'> is not in the value set of field Sex (row 7)\n",
      "  warnings.warn(f\"Value {self.value} of type {type(self.value)} is not in the value set of field \"\n",
      "C:\\Users\\filip\\OneDrive\\Documents\\dataspell\\phenopacket_mapper\\src\\phenopacket_mapper\\data_standards\\data_model.py:344: UserWarning: Instance values do not comply with their respective fields' valuesets. (row 7)\n",
      "  warnings.warn(error_msg)\n",
      "C:\\Users\\filip\\OneDrive\\Documents\\dataspell\\phenopacket_mapper\\src\\phenopacket_mapper\\data_standards\\data_model.py:358: UserWarning: Required fields are missing in the instance. (row 8) \n",
      "(missing_fields=undiagnosed_case)\n",
      "  warnings.warn(error_msg)\n",
      "C:\\Users\\filip\\OneDrive\\Documents\\dataspell\\phenopacket_mapper\\src\\phenopacket_mapper\\data_standards\\data_model.py:358: UserWarning: Required fields are missing in the instance. (row 9) \n",
      "(missing_fields=diagnosis_of_the_rare_disease, undiagnosed_case)\n",
      "  warnings.warn(error_msg)\n"
     ]
    }
   ],
   "execution_count": 87
  },
  {
   "cell_type": "code",
   "source": [
    "ds.head(20)"
   ],
   "metadata": {
    "collapsed": false,
    "ExecuteTime": {
     "end_time": "2024-10-04T12:31:24.763736Z",
     "start_time": "2024-10-04T12:31:24.755372Z"
    }
   },
   "id": "fb05e92f9341ad27",
   "outputs": [
    {
     "data": {
      "text/plain": [
       "  pseudonym         date_of_birth               sex   patient_s_status  \\\n",
       "0  patient0  2002-02-00T00:00:00Z            Female              Alive   \n",
       "1  patient1  1979-06-17T00:00:00Z              Male               Dead   \n",
       "2  patient2  2000-00-00T00:00:00Z              Male              Alive   \n",
       "3  patient3  2003-01-07T00:00:00Z            Female              Alive   \n",
       "4  patient4  2004-08-02T00:00:00Z      Undetermined  Lost in follow-up   \n",
       "5  patient5  1923-04-08T00:00:00Z  Foetus (Unknown)          Opted-out   \n",
       "6  patient6  1999-00-00T00:00:00Z             False              Alive   \n",
       "7  patient7  2003-12-00T00:00:00Z                 m              Alive   \n",
       "8  patient8  1979-09-00T00:00:00Z              Male               Dead   \n",
       "9  patient9  2002-00-00T00:00:00Z            Female              Alive   \n",
       "\n",
       "          date_of_death first_contact_with_specialised_centre  \\\n",
       "0                  None                  2019-00-00T00:00:00Z   \n",
       "1  2010-02-00T00:00:00Z                  2019-00-00T00:00:00Z   \n",
       "2                  None                  2020-00-00T00:00:00Z   \n",
       "3                  None                  2023-00-00T00:00:00Z   \n",
       "4                  None                  2020-00-00T00:00:00Z   \n",
       "5                  None                  2021-00-00T00:00:00Z   \n",
       "6                  None                  2019-00-00T00:00:00Z   \n",
       "7                  None                  2024-00-00T00:00:00Z   \n",
       "8  2017-05-31T00:00:00Z                  2022-00-00T00:00:00Z   \n",
       "9                  None                  2019-00-00T00:00:00Z   \n",
       "\n",
       "           age_at_onset      age_at_diagnosis diagnosis_of_the_rare_disease  \\\n",
       "0             Antenatal             Antenatal                  ORPHA:206638   \n",
       "1              At birth              At birth                      ICD9:781   \n",
       "2  2005-12-07T00:00:00Z  2005-12-07T00:00:00Z                  ORPHA:206638   \n",
       "3  2009-07-22T00:00:00Z  2010-07-22T00:00:00Z                  ORPHA:206638   \n",
       "4          Undetermined          Undetermined                  ORPHA:206638   \n",
       "5          Undetermined          Undetermined                  ORPHA:206638   \n",
       "6  2017-00-00T00:00:00Z  2018-00-00T00:00:00Z                  ORPHA:206638   \n",
       "7  2020-05-00T00:00:00Z  2020-05-00T00:00:00Z                  ORPHA:206638   \n",
       "8  2009-00-00T00:00:00Z  2009-00-00T00:00:00Z                  ORPHA:206638   \n",
       "9  2024-00-00T00:00:00Z  2024-00-00T00:00:00Z                          None   \n",
       "\n",
       "  genetic_diagnosis undiagnosed_case  \n",
       "0       OMIM:614106             None  \n",
       "1       OMIM:614106             None  \n",
       "2       OMIM:614106             None  \n",
       "3       OMIM:614106             None  \n",
       "4              None             None  \n",
       "5       OMIM:614106             None  \n",
       "6              None             None  \n",
       "7       OMIM:614106             None  \n",
       "8       OMIM:614106             None  \n",
       "9       OMIM:614106             None  "
      ],
      "text/html": [
       "<div>\n",
       "<style scoped>\n",
       "    .dataframe tbody tr th:only-of-type {\n",
       "        vertical-align: middle;\n",
       "    }\n",
       "\n",
       "    .dataframe tbody tr th {\n",
       "        vertical-align: top;\n",
       "    }\n",
       "\n",
       "    .dataframe thead th {\n",
       "        text-align: right;\n",
       "    }\n",
       "</style>\n",
       "<table border=\"1\" class=\"dataframe\">\n",
       "  <thead>\n",
       "    <tr style=\"text-align: right;\">\n",
       "      <th></th>\n",
       "      <th>pseudonym</th>\n",
       "      <th>date_of_birth</th>\n",
       "      <th>sex</th>\n",
       "      <th>patient_s_status</th>\n",
       "      <th>date_of_death</th>\n",
       "      <th>first_contact_with_specialised_centre</th>\n",
       "      <th>age_at_onset</th>\n",
       "      <th>age_at_diagnosis</th>\n",
       "      <th>diagnosis_of_the_rare_disease</th>\n",
       "      <th>genetic_diagnosis</th>\n",
       "      <th>undiagnosed_case</th>\n",
       "    </tr>\n",
       "  </thead>\n",
       "  <tbody>\n",
       "    <tr>\n",
       "      <th>0</th>\n",
       "      <td>patient0</td>\n",
       "      <td>2002-02-00T00:00:00Z</td>\n",
       "      <td>Female</td>\n",
       "      <td>Alive</td>\n",
       "      <td>None</td>\n",
       "      <td>2019-00-00T00:00:00Z</td>\n",
       "      <td>Antenatal</td>\n",
       "      <td>Antenatal</td>\n",
       "      <td>ORPHA:206638</td>\n",
       "      <td>OMIM:614106</td>\n",
       "      <td>None</td>\n",
       "    </tr>\n",
       "    <tr>\n",
       "      <th>1</th>\n",
       "      <td>patient1</td>\n",
       "      <td>1979-06-17T00:00:00Z</td>\n",
       "      <td>Male</td>\n",
       "      <td>Dead</td>\n",
       "      <td>2010-02-00T00:00:00Z</td>\n",
       "      <td>2019-00-00T00:00:00Z</td>\n",
       "      <td>At birth</td>\n",
       "      <td>At birth</td>\n",
       "      <td>ICD9:781</td>\n",
       "      <td>OMIM:614106</td>\n",
       "      <td>None</td>\n",
       "    </tr>\n",
       "    <tr>\n",
       "      <th>2</th>\n",
       "      <td>patient2</td>\n",
       "      <td>2000-00-00T00:00:00Z</td>\n",
       "      <td>Male</td>\n",
       "      <td>Alive</td>\n",
       "      <td>None</td>\n",
       "      <td>2020-00-00T00:00:00Z</td>\n",
       "      <td>2005-12-07T00:00:00Z</td>\n",
       "      <td>2005-12-07T00:00:00Z</td>\n",
       "      <td>ORPHA:206638</td>\n",
       "      <td>OMIM:614106</td>\n",
       "      <td>None</td>\n",
       "    </tr>\n",
       "    <tr>\n",
       "      <th>3</th>\n",
       "      <td>patient3</td>\n",
       "      <td>2003-01-07T00:00:00Z</td>\n",
       "      <td>Female</td>\n",
       "      <td>Alive</td>\n",
       "      <td>None</td>\n",
       "      <td>2023-00-00T00:00:00Z</td>\n",
       "      <td>2009-07-22T00:00:00Z</td>\n",
       "      <td>2010-07-22T00:00:00Z</td>\n",
       "      <td>ORPHA:206638</td>\n",
       "      <td>OMIM:614106</td>\n",
       "      <td>None</td>\n",
       "    </tr>\n",
       "    <tr>\n",
       "      <th>4</th>\n",
       "      <td>patient4</td>\n",
       "      <td>2004-08-02T00:00:00Z</td>\n",
       "      <td>Undetermined</td>\n",
       "      <td>Lost in follow-up</td>\n",
       "      <td>None</td>\n",
       "      <td>2020-00-00T00:00:00Z</td>\n",
       "      <td>Undetermined</td>\n",
       "      <td>Undetermined</td>\n",
       "      <td>ORPHA:206638</td>\n",
       "      <td>None</td>\n",
       "      <td>None</td>\n",
       "    </tr>\n",
       "    <tr>\n",
       "      <th>5</th>\n",
       "      <td>patient5</td>\n",
       "      <td>1923-04-08T00:00:00Z</td>\n",
       "      <td>Foetus (Unknown)</td>\n",
       "      <td>Opted-out</td>\n",
       "      <td>None</td>\n",
       "      <td>2021-00-00T00:00:00Z</td>\n",
       "      <td>Undetermined</td>\n",
       "      <td>Undetermined</td>\n",
       "      <td>ORPHA:206638</td>\n",
       "      <td>OMIM:614106</td>\n",
       "      <td>None</td>\n",
       "    </tr>\n",
       "    <tr>\n",
       "      <th>6</th>\n",
       "      <td>patient6</td>\n",
       "      <td>1999-00-00T00:00:00Z</td>\n",
       "      <td>False</td>\n",
       "      <td>Alive</td>\n",
       "      <td>None</td>\n",
       "      <td>2019-00-00T00:00:00Z</td>\n",
       "      <td>2017-00-00T00:00:00Z</td>\n",
       "      <td>2018-00-00T00:00:00Z</td>\n",
       "      <td>ORPHA:206638</td>\n",
       "      <td>None</td>\n",
       "      <td>None</td>\n",
       "    </tr>\n",
       "    <tr>\n",
       "      <th>7</th>\n",
       "      <td>patient7</td>\n",
       "      <td>2003-12-00T00:00:00Z</td>\n",
       "      <td>m</td>\n",
       "      <td>Alive</td>\n",
       "      <td>None</td>\n",
       "      <td>2024-00-00T00:00:00Z</td>\n",
       "      <td>2020-05-00T00:00:00Z</td>\n",
       "      <td>2020-05-00T00:00:00Z</td>\n",
       "      <td>ORPHA:206638</td>\n",
       "      <td>OMIM:614106</td>\n",
       "      <td>None</td>\n",
       "    </tr>\n",
       "    <tr>\n",
       "      <th>8</th>\n",
       "      <td>patient8</td>\n",
       "      <td>1979-09-00T00:00:00Z</td>\n",
       "      <td>Male</td>\n",
       "      <td>Dead</td>\n",
       "      <td>2017-05-31T00:00:00Z</td>\n",
       "      <td>2022-00-00T00:00:00Z</td>\n",
       "      <td>2009-00-00T00:00:00Z</td>\n",
       "      <td>2009-00-00T00:00:00Z</td>\n",
       "      <td>ORPHA:206638</td>\n",
       "      <td>OMIM:614106</td>\n",
       "      <td>None</td>\n",
       "    </tr>\n",
       "    <tr>\n",
       "      <th>9</th>\n",
       "      <td>patient9</td>\n",
       "      <td>2002-00-00T00:00:00Z</td>\n",
       "      <td>Female</td>\n",
       "      <td>Alive</td>\n",
       "      <td>None</td>\n",
       "      <td>2019-00-00T00:00:00Z</td>\n",
       "      <td>2024-00-00T00:00:00Z</td>\n",
       "      <td>2024-00-00T00:00:00Z</td>\n",
       "      <td>None</td>\n",
       "      <td>OMIM:614106</td>\n",
       "      <td>None</td>\n",
       "    </tr>\n",
       "  </tbody>\n",
       "</table>\n",
       "</div>"
      ]
     },
     "execution_count": 88,
     "metadata": {},
     "output_type": "execute_result"
    }
   ],
   "execution_count": 88
  },
  {
   "cell_type": "markdown",
   "source": "## 3. Defining the mapping to Phenopackets",
   "metadata": {
    "collapsed": false
   },
   "id": "8197983a8aa54486"
  },
  {
   "cell_type": "code",
   "source": [
    "import phenopackets\n",
    "\n",
    "from phenopacket_mapper import PhenopacketMapper\n",
    "from phenopacket_mapper.mapping import PhenopacketElement"
   ],
   "metadata": {
    "collapsed": false,
    "ExecuteTime": {
     "end_time": "2024-10-04T12:31:24.943254Z",
     "start_time": "2024-10-04T12:31:24.939989Z"
    }
   },
   "id": "ea6f88c242723618",
   "outputs": [],
   "execution_count": 90
  },
  {
   "cell_type": "code",
   "source": [
    "added_fields = ['pseudonym', 'date_of_birth', 'patient_s_status', 'date_of_death', 'sex', 'diagnosis_of_the_rare_disease', 'age_at_diagnosis']\n",
    "\n",
    "mapper = PhenopacketMapper(\n",
    "    data_model=erdri_cds_data_model,\n",
    "    resources=resources,\n",
    "    id=erdri_cds_data_model.pseudonym,\n",
    "    subject=PhenopacketElement(\n",
    "        phenopacket_element=phenopackets.Individual,\n",
    "        id=erdri_cds_data_model.pseudonym,\n",
    "        date_of_birth=erdri_cds_data_model.date_of_birth,\n",
    "        vital_status=PhenopacketElement(\n",
    "            phenopacket_element=phenopackets.VitalStatus,\n",
    "            status=erdri_cds_data_model.patient_s_status,\n",
    "            time_of_death=PhenopacketElement(\n",
    "                phenopacket_element=phenopackets.TimeElement,\n",
    "                timestamp=erdri_cds_data_model.date_of_death\n",
    "            )\n",
    "        ),\n",
    "        sex=erdri_cds_data_model.sex,\n",
    "    ),\n",
    "    diseases=[\n",
    "        PhenopacketElement(\n",
    "            phenopacket_element=phenopackets.Disease,\n",
    "            term=erdri_cds_data_model.diagnosis_of_the_rare_disease,\n",
    "            # TODO: preprocess to remove the strings\n",
    "            # onset=PhenopacketElement(\n",
    "            #     phenopacket_element=phenopackets.TimeElement,\n",
    "            #     timestamp=erdri_cds_data_model.age_at_diagnosis\n",
    "            # )\n",
    "        )\n",
    "    ],\n",
    "    interpretations=[\n",
    "        PhenopacketElement(\n",
    "            phenopacket_element=phenopackets.Interpretation,\n",
    "            diagnosis=PhenopacketElement(\n",
    "                phenopacket_element=phenopackets.Diagnosis,\n",
    "                disease=erdri_cds_data_model.diagnosis_of_the_rare_disease,\n",
    "            )\n",
    "        )  \n",
    "    ],\n",
    "    \n",
    ")"
   ],
   "metadata": {
    "collapsed": false,
    "ExecuteTime": {
     "end_time": "2024-10-04T12:31:25.023434Z",
     "start_time": "2024-10-04T12:31:25.018928Z"
    }
   },
   "id": "e214206e87497c92",
   "outputs": [],
   "execution_count": 91
  },
  {
   "metadata": {
    "collapsed": false
   },
   "cell_type": "markdown",
   "source": [
    "## 4. Preprocessing the data\n",
    "\n",
    "It is important to preprocess the data to adhere to the Phenopacket schema. \n",
    "\n",
    "E.g.: The `phenopackets.VitalStatus` expects an enum value out of  'ALIVE', 'DECEASED', and 'UNKNOWN_STATUS' for the `phenopackets.VitalStatus.status` field. But the ERDRI CDS defined it's data set as 'Alive', 'Dead', 'Lost in follow-up', 'Opted-out'. So we need to map these values to the expected ones."
   ],
   "id": "da740c3a22fc7f2a"
  },
  {
   "metadata": {
    "collapsed": false,
    "ExecuteTime": {
     "end_time": "2024-10-04T12:31:24.832449Z",
     "start_time": "2024-10-04T12:31:24.823034Z"
    }
   },
   "cell_type": "code",
   "outputs": [
    {
     "data": {
      "text/plain": [
       "  pseudonym         date_of_birth          sex patient_s_status  \\\n",
       "0  patient0  2002-02-00T00:00:00Z       FEMALE            ALIVE   \n",
       "1  patient1  1979-06-17T00:00:00Z         MALE         DECEASED   \n",
       "2  patient2  2000-00-00T00:00:00Z         MALE            ALIVE   \n",
       "3  patient3  2003-01-07T00:00:00Z       FEMALE            ALIVE   \n",
       "4  patient4  2004-08-02T00:00:00Z  UNKNOWN_SEX   UNKNOWN_STATUS   \n",
       "5  patient5  1923-04-08T00:00:00Z  UNKNOWN_SEX   UNKNOWN_STATUS   \n",
       "6  patient6  1999-00-00T00:00:00Z       FEMALE            ALIVE   \n",
       "7  patient7  2003-12-00T00:00:00Z         MALE            ALIVE   \n",
       "8  patient8  1979-09-00T00:00:00Z         MALE         DECEASED   \n",
       "9  patient9  2002-00-00T00:00:00Z       FEMALE            ALIVE   \n",
       "\n",
       "          date_of_death first_contact_with_specialised_centre  \\\n",
       "0                  None                  2019-00-00T00:00:00Z   \n",
       "1  2010-02-00T00:00:00Z                  2019-00-00T00:00:00Z   \n",
       "2                  None                  2020-00-00T00:00:00Z   \n",
       "3                  None                  2023-00-00T00:00:00Z   \n",
       "4                  None                  2020-00-00T00:00:00Z   \n",
       "5                  None                  2021-00-00T00:00:00Z   \n",
       "6                  None                  2019-00-00T00:00:00Z   \n",
       "7                  None                  2024-00-00T00:00:00Z   \n",
       "8  2017-05-31T00:00:00Z                  2022-00-00T00:00:00Z   \n",
       "9                  None                  2019-00-00T00:00:00Z   \n",
       "\n",
       "           age_at_onset      age_at_diagnosis diagnosis_of_the_rare_disease  \\\n",
       "0             Antenatal             Antenatal                  ORPHA:206638   \n",
       "1              At birth              At birth                      ICD9:781   \n",
       "2  2005-12-07T00:00:00Z  2005-12-07T00:00:00Z                  ORPHA:206638   \n",
       "3  2009-07-22T00:00:00Z  2010-07-22T00:00:00Z                  ORPHA:206638   \n",
       "4          Undetermined          Undetermined                  ORPHA:206638   \n",
       "5          Undetermined          Undetermined                  ORPHA:206638   \n",
       "6  2017-00-00T00:00:00Z  2018-00-00T00:00:00Z                  ORPHA:206638   \n",
       "7  2020-05-00T00:00:00Z  2020-05-00T00:00:00Z                  ORPHA:206638   \n",
       "8  2009-00-00T00:00:00Z  2009-00-00T00:00:00Z                  ORPHA:206638   \n",
       "9  2024-00-00T00:00:00Z  2024-00-00T00:00:00Z                          None   \n",
       "\n",
       "  genetic_diagnosis undiagnosed_case  \n",
       "0       OMIM:614106             None  \n",
       "1       OMIM:614106             None  \n",
       "2       OMIM:614106             None  \n",
       "3       OMIM:614106             None  \n",
       "4              None             None  \n",
       "5       OMIM:614106             None  \n",
       "6              None             None  \n",
       "7       OMIM:614106             None  \n",
       "8       OMIM:614106             None  \n",
       "9       OMIM:614106             None  "
      ],
      "text/html": [
       "<div>\n",
       "<style scoped>\n",
       "    .dataframe tbody tr th:only-of-type {\n",
       "        vertical-align: middle;\n",
       "    }\n",
       "\n",
       "    .dataframe tbody tr th {\n",
       "        vertical-align: top;\n",
       "    }\n",
       "\n",
       "    .dataframe thead th {\n",
       "        text-align: right;\n",
       "    }\n",
       "</style>\n",
       "<table border=\"1\" class=\"dataframe\">\n",
       "  <thead>\n",
       "    <tr style=\"text-align: right;\">\n",
       "      <th></th>\n",
       "      <th>pseudonym</th>\n",
       "      <th>date_of_birth</th>\n",
       "      <th>sex</th>\n",
       "      <th>patient_s_status</th>\n",
       "      <th>date_of_death</th>\n",
       "      <th>first_contact_with_specialised_centre</th>\n",
       "      <th>age_at_onset</th>\n",
       "      <th>age_at_diagnosis</th>\n",
       "      <th>diagnosis_of_the_rare_disease</th>\n",
       "      <th>genetic_diagnosis</th>\n",
       "      <th>undiagnosed_case</th>\n",
       "    </tr>\n",
       "  </thead>\n",
       "  <tbody>\n",
       "    <tr>\n",
       "      <th>0</th>\n",
       "      <td>patient0</td>\n",
       "      <td>2002-02-00T00:00:00Z</td>\n",
       "      <td>FEMALE</td>\n",
       "      <td>ALIVE</td>\n",
       "      <td>None</td>\n",
       "      <td>2019-00-00T00:00:00Z</td>\n",
       "      <td>Antenatal</td>\n",
       "      <td>Antenatal</td>\n",
       "      <td>ORPHA:206638</td>\n",
       "      <td>OMIM:614106</td>\n",
       "      <td>None</td>\n",
       "    </tr>\n",
       "    <tr>\n",
       "      <th>1</th>\n",
       "      <td>patient1</td>\n",
       "      <td>1979-06-17T00:00:00Z</td>\n",
       "      <td>MALE</td>\n",
       "      <td>DECEASED</td>\n",
       "      <td>2010-02-00T00:00:00Z</td>\n",
       "      <td>2019-00-00T00:00:00Z</td>\n",
       "      <td>At birth</td>\n",
       "      <td>At birth</td>\n",
       "      <td>ICD9:781</td>\n",
       "      <td>OMIM:614106</td>\n",
       "      <td>None</td>\n",
       "    </tr>\n",
       "    <tr>\n",
       "      <th>2</th>\n",
       "      <td>patient2</td>\n",
       "      <td>2000-00-00T00:00:00Z</td>\n",
       "      <td>MALE</td>\n",
       "      <td>ALIVE</td>\n",
       "      <td>None</td>\n",
       "      <td>2020-00-00T00:00:00Z</td>\n",
       "      <td>2005-12-07T00:00:00Z</td>\n",
       "      <td>2005-12-07T00:00:00Z</td>\n",
       "      <td>ORPHA:206638</td>\n",
       "      <td>OMIM:614106</td>\n",
       "      <td>None</td>\n",
       "    </tr>\n",
       "    <tr>\n",
       "      <th>3</th>\n",
       "      <td>patient3</td>\n",
       "      <td>2003-01-07T00:00:00Z</td>\n",
       "      <td>FEMALE</td>\n",
       "      <td>ALIVE</td>\n",
       "      <td>None</td>\n",
       "      <td>2023-00-00T00:00:00Z</td>\n",
       "      <td>2009-07-22T00:00:00Z</td>\n",
       "      <td>2010-07-22T00:00:00Z</td>\n",
       "      <td>ORPHA:206638</td>\n",
       "      <td>OMIM:614106</td>\n",
       "      <td>None</td>\n",
       "    </tr>\n",
       "    <tr>\n",
       "      <th>4</th>\n",
       "      <td>patient4</td>\n",
       "      <td>2004-08-02T00:00:00Z</td>\n",
       "      <td>UNKNOWN_SEX</td>\n",
       "      <td>UNKNOWN_STATUS</td>\n",
       "      <td>None</td>\n",
       "      <td>2020-00-00T00:00:00Z</td>\n",
       "      <td>Undetermined</td>\n",
       "      <td>Undetermined</td>\n",
       "      <td>ORPHA:206638</td>\n",
       "      <td>None</td>\n",
       "      <td>None</td>\n",
       "    </tr>\n",
       "    <tr>\n",
       "      <th>5</th>\n",
       "      <td>patient5</td>\n",
       "      <td>1923-04-08T00:00:00Z</td>\n",
       "      <td>UNKNOWN_SEX</td>\n",
       "      <td>UNKNOWN_STATUS</td>\n",
       "      <td>None</td>\n",
       "      <td>2021-00-00T00:00:00Z</td>\n",
       "      <td>Undetermined</td>\n",
       "      <td>Undetermined</td>\n",
       "      <td>ORPHA:206638</td>\n",
       "      <td>OMIM:614106</td>\n",
       "      <td>None</td>\n",
       "    </tr>\n",
       "    <tr>\n",
       "      <th>6</th>\n",
       "      <td>patient6</td>\n",
       "      <td>1999-00-00T00:00:00Z</td>\n",
       "      <td>FEMALE</td>\n",
       "      <td>ALIVE</td>\n",
       "      <td>None</td>\n",
       "      <td>2019-00-00T00:00:00Z</td>\n",
       "      <td>2017-00-00T00:00:00Z</td>\n",
       "      <td>2018-00-00T00:00:00Z</td>\n",
       "      <td>ORPHA:206638</td>\n",
       "      <td>None</td>\n",
       "      <td>None</td>\n",
       "    </tr>\n",
       "    <tr>\n",
       "      <th>7</th>\n",
       "      <td>patient7</td>\n",
       "      <td>2003-12-00T00:00:00Z</td>\n",
       "      <td>MALE</td>\n",
       "      <td>ALIVE</td>\n",
       "      <td>None</td>\n",
       "      <td>2024-00-00T00:00:00Z</td>\n",
       "      <td>2020-05-00T00:00:00Z</td>\n",
       "      <td>2020-05-00T00:00:00Z</td>\n",
       "      <td>ORPHA:206638</td>\n",
       "      <td>OMIM:614106</td>\n",
       "      <td>None</td>\n",
       "    </tr>\n",
       "    <tr>\n",
       "      <th>8</th>\n",
       "      <td>patient8</td>\n",
       "      <td>1979-09-00T00:00:00Z</td>\n",
       "      <td>MALE</td>\n",
       "      <td>DECEASED</td>\n",
       "      <td>2017-05-31T00:00:00Z</td>\n",
       "      <td>2022-00-00T00:00:00Z</td>\n",
       "      <td>2009-00-00T00:00:00Z</td>\n",
       "      <td>2009-00-00T00:00:00Z</td>\n",
       "      <td>ORPHA:206638</td>\n",
       "      <td>OMIM:614106</td>\n",
       "      <td>None</td>\n",
       "    </tr>\n",
       "    <tr>\n",
       "      <th>9</th>\n",
       "      <td>patient9</td>\n",
       "      <td>2002-00-00T00:00:00Z</td>\n",
       "      <td>FEMALE</td>\n",
       "      <td>ALIVE</td>\n",
       "      <td>None</td>\n",
       "      <td>2019-00-00T00:00:00Z</td>\n",
       "      <td>2024-00-00T00:00:00Z</td>\n",
       "      <td>2024-00-00T00:00:00Z</td>\n",
       "      <td>None</td>\n",
       "      <td>OMIM:614106</td>\n",
       "      <td>None</td>\n",
       "    </tr>\n",
       "  </tbody>\n",
       "</table>\n",
       "</div>"
      ]
     },
     "execution_count": 89,
     "metadata": {},
     "output_type": "execute_result"
    }
   ],
   "execution_count": 89,
   "source": [
    "ds.preprocess(\n",
    "    fields=erdri_cds_data_model.patient_s_status,\n",
    "    mapping={\n",
    "        \"Alive\": \"ALIVE\",\n",
    "        \"Dead\": \"DECEASED\",\n",
    "        \"Lost in follow-up\": \"UNKNOWN_STATUS\",\n",
    "        \"Opted-out\": \"UNKNOWN_STATUS\"\n",
    "    })\n",
    "\n",
    "ds.preprocess(\n",
    "    fields=erdri_cds_data_model.sex,\n",
    "    mapping={\n",
    "        'Female': 'FEMALE',\n",
    "        'Male': 'MALE',\n",
    "        'Undetermined': 'UNKNOWN_SEX',\n",
    "        'Foetus (Unknown)': 'UNKNOWN_SEX',\n",
    "        'm': 'MALE',\n",
    "        False: 'FEMALE',\n",
    "    }\n",
    ")\n",
    "\n",
    "def preprocess_age_at_diagnosis(values):\n",
    "    age_at_diagnosis = values['age_at_diagnosis']\n",
    "    date_of_birth = values['date_of_birth']\n",
    "    if age_at_diagnosis == 'At birth' or age_at_diagnosis == 'Antenatal':\n",
    "        return date_of_birth\n",
    "    elif age_at_diagnosis == 'Undetermined':\n",
    "        return None\n",
    "    else:\n",
    "        return age_at_diagnosis\n",
    "\n",
    "ds.head(20)"
   ],
   "id": "7980416431ff905f"
  },
  {
   "metadata": {
    "collapsed": false
   },
   "cell_type": "markdown",
   "source": "## 5. Perform the mapping",
   "id": "733d43d8444d3455"
  },
  {
   "cell_type": "code",
   "source": [
    "phenopackets_list = mapper.map(ds)"
   ],
   "metadata": {
    "collapsed": false,
    "ExecuteTime": {
     "end_time": "2024-10-04T12:31:25.147344Z",
     "start_time": "2024-10-04T12:31:25.142851Z"
    }
   },
   "id": "6d5a7f4aec128e21",
   "outputs": [],
   "execution_count": 92
  },
  {
   "cell_type": "code",
   "source": [
    "print(phenopackets_list[1])"
   ],
   "metadata": {
    "collapsed": false,
    "ExecuteTime": {
     "end_time": "2024-10-04T12:31:25.282627Z",
     "start_time": "2024-10-04T12:31:25.279553Z"
    }
   },
   "id": "32e91d8b41e9217f",
   "outputs": [
    {
     "name": "stdout",
     "output_type": "stream",
     "text": [
      "id: \"patient1\"\n",
      "subject {\n",
      "  id: \"patient1\"\n",
      "  date_of_birth {\n",
      "    seconds: 298425600\n",
      "  }\n",
      "  vital_status {\n",
      "    status: DECEASED\n",
      "    time_of_death {\n",
      "      timestamp {\n",
      "        seconds: 1264982400\n",
      "      }\n",
      "    }\n",
      "  }\n",
      "  sex: MALE\n",
      "}\n",
      "interpretations {\n",
      "  diagnosis {\n",
      "    disease {\n",
      "      id: \"ICD9:781\"\n",
      "    }\n",
      "  }\n",
      "}\n",
      "diseases {\n",
      "  term {\n",
      "    id: \"ICD9:781\"\n",
      "  }\n",
      "}\n",
      "\n"
     ]
    }
   ],
   "execution_count": 93
  },
  {
   "cell_type": "markdown",
   "source": [
    "## 6. Write the Phenopackets to file"
   ],
   "metadata": {
    "collapsed": false
   },
   "id": "f586eccd605fed9c"
  },
  {
   "cell_type": "code",
   "source": [
    "from phenopacket_mapper.pipeline import write"
   ],
   "metadata": {
    "collapsed": false,
    "ExecuteTime": {
     "end_time": "2024-10-04T12:31:25.385642Z",
     "start_time": "2024-10-04T12:31:25.381610Z"
    }
   },
   "id": "a52ac804faaf1b48",
   "outputs": [],
   "execution_count": 94
  },
  {
   "cell_type": "code",
   "source": [
    "output_path = Path('../res/test_data/erdri/output/')\n",
    "\n",
    "write(phenopackets_list, out_dir=output_path)"
   ],
   "metadata": {
    "collapsed": false,
    "ExecuteTime": {
     "end_time": "2024-10-04T12:31:25.400354Z",
     "start_time": "2024-10-04T12:31:25.394090Z"
    }
   },
   "id": "b851fa9316a33ba8",
   "outputs": [],
   "execution_count": 95
  },
  {
   "cell_type": "markdown",
   "source": [
    "## 7. Outlook\n",
    "\n",
    "We want to implement a method like this:"
   ],
   "metadata": {
    "collapsed": false
   },
   "id": "b18e51fcf89d9ec8"
  },
  {
   "cell_type": "code",
   "source": [
    "resources = [SNOMED_CT, ORDO, ]  # etc.\n",
    "ds = load_dataset(\n",
    "    path=\"...\",\n",
    "    infer_data_model=True,\n",
    ")\n",
    "PhenopacketMapper.map(\n",
    "    data=ds,\n",
    "    resources=resources,\n",
    "    id=...\n",
    ")"
   ],
   "metadata": {
    "collapsed": false,
    "ExecuteTime": {
     "end_time": "2024-10-04T12:31:25.433132Z",
     "start_time": "2024-10-04T12:31:25.419796Z"
    }
   },
   "id": "52e5d5a0ae678124",
   "outputs": [
    {
     "ename": "NameError",
     "evalue": "name 'load_dataset' is not defined",
     "output_type": "error",
     "traceback": [
      "\u001B[1;31m---------------------------------------------------------------------------\u001B[0m",
      "\u001B[1;31mNameError\u001B[0m                                 Traceback (most recent call last)",
      "Cell \u001B[1;32mIn[96], line 2\u001B[0m\n\u001B[0;32m      1\u001B[0m resources \u001B[38;5;241m=\u001B[39m [SNOMED_CT, ORDO, ]  \u001B[38;5;66;03m# etc.\u001B[39;00m\n\u001B[1;32m----> 2\u001B[0m ds \u001B[38;5;241m=\u001B[39m \u001B[43mload_dataset\u001B[49m(\n\u001B[0;32m      3\u001B[0m     path\u001B[38;5;241m=\u001B[39m\u001B[38;5;124m\"\u001B[39m\u001B[38;5;124m...\u001B[39m\u001B[38;5;124m\"\u001B[39m,\n\u001B[0;32m      4\u001B[0m     infer_data_model\u001B[38;5;241m=\u001B[39m\u001B[38;5;28;01mTrue\u001B[39;00m,\n\u001B[0;32m      5\u001B[0m )\n\u001B[0;32m      6\u001B[0m PhenopacketMapper\u001B[38;5;241m.\u001B[39mmap(\n\u001B[0;32m      7\u001B[0m     data\u001B[38;5;241m=\u001B[39mds,\n\u001B[0;32m      8\u001B[0m     resources\u001B[38;5;241m=\u001B[39mresources,\n\u001B[0;32m      9\u001B[0m     \u001B[38;5;28mid\u001B[39m\u001B[38;5;241m=\u001B[39m\u001B[38;5;241m.\u001B[39m\u001B[38;5;241m.\u001B[39m\u001B[38;5;241m.\u001B[39m\n\u001B[0;32m     10\u001B[0m )\n",
      "\u001B[1;31mNameError\u001B[0m: name 'load_dataset' is not defined"
     ]
    }
   ],
   "execution_count": 96
  },
  {
   "cell_type": "markdown",
   "source": [
    "TODO: debug loading of data properly"
   ],
   "metadata": {
    "collapsed": false
   },
   "id": "c2bb981d83e98948"
  },
  {
   "cell_type": "markdown",
   "source": [
    "#### Continuance of the discussion raised by field 2.2. above\n",
    "\n",
    "For the sake of completeness, we could use SNOMED Clinical Terms (SNOMED CT) to encode this variable using a value set containg:\n",
    "- [SNOMED:248152002](https://browser.ihtsdotools.org/?perspective=full&conceptId1=248152002&edition=MAIN/2024-09-01&release=&languages=en) Female\n",
    "- [SNOMED:248153007](https://browser.ihtsdotools.org/?perspective=full&conceptId1=248153007&edition=MAIN/2024-09-01&release=&languages=en) Male\n",
    "- [SNOMED:373068000, SNOMED: 734000001](https://browser.ihtsdotools.org/?perspective=full&conceptId1=404684003&edition=MAIN/2024-09-01&release=&languages=en) Undetermined biological sex\n",
    "- [SNOMED:303112003, SNOMED:373068000, SNOMED: 734000001](https://browser.ihtsdotools.org/?perspective=full&conceptId1=303112003&edition=MAIN/2024-09-01&release=&languages=en) Fetal period, biological sex unknown\n",
    "\n",
    "To include multiple codings as a single value, one can use a `CodeableConcept` (`phenopacket_mapper.data_standards.code.CodeableConcept`) object. This object can contain multiple codings, each with a different code system if so wanted.\n",
    "\n",
    "E.g.:"
   ],
   "metadata": {
    "collapsed": false
   },
   "id": "ac42306d208ec95"
  },
  {
   "cell_type": "code",
   "outputs": [],
   "source": [
    "from phenopacket_mapper.data_standards import Coding, CodeableConcept\n",
    "from phenopacket_mapper.data_standards.code_system import SNOMED_CT\n",
    "\n",
    "sct_coding_female = Coding(code=\"248152002\", system=SNOMED_CT, display=\"Female (finding)\")\n",
    "sct_coding_male = Coding(code=\"248153007\", system=SNOMED_CT, display=\"Male (finding)\")\n",
    "sct_coding_undetermined = Coding(code=\"373068000\", system=SNOMED_CT, display=\"Undetermined (qualifier value)\")\n",
    "sct_coding_bio_sex = Coding(code=\"734000001\", system=SNOMED_CT, display=\"Biological sex (property) (qualifier value)\")\n",
    "sct_coding_foetus = Coding(code=\"303112003\", system=SNOMED_CT, display=\"Fetal period (qualifier value)\")\n",
    "\n",
    "cc_und_bio_sex = CodeableConcept(coding=[sct_coding_undetermined, sct_coding_bio_sex], text=\"Undetermined biological sex\")\n",
    "cc_foetus = CodeableConcept(coding=[sct_coding_foetus, sct_coding_undetermined, sct_coding_bio_sex], text=\"Fetal period, biological sex unknown\")\n",
    "\n",
    "vs_bio_sex = ValueSet(elements=[sct_coding_female, sct_coding_male, cc_und_bio_sex, cc_foetus], name=\"\", description=\"\")"
   ],
   "metadata": {
    "collapsed": false,
    "ExecuteTime": {
     "end_time": "2024-10-04T12:31:25.505858500Z",
     "start_time": "2024-09-25T10:58:31.038395300Z"
    }
   },
   "id": "50137b0a3a08c959",
   "execution_count": 202
  },
  {
   "cell_type": "code",
   "outputs": [
    {
     "data": {
      "text/plain": ""
     },
     "execution_count": 203,
     "metadata": {},
     "output_type": "execute_result"
    }
   ],
   "source": [
    "phenopackets.TimeElement()"
   ],
   "metadata": {
    "collapsed": false,
    "ExecuteTime": {
     "end_time": "2024-10-04T12:31:25.505858500Z",
     "start_time": "2024-09-25T10:58:31.044680600Z"
    }
   },
   "id": "a55ebfdf44d8446f",
   "execution_count": 203
  },
  {
   "cell_type": "code",
   "outputs": [
    {
     "data": {
      "text/plain": "id: \"1\"\nsubject {\n  id: \"1\"\n  date_of_birth {\n    seconds: 1726099200\n  }\n}\ndiseases {\n  onset {\n    timestamp {\n      seconds: 1726099200\n    }\n  }\n}"
     },
     "execution_count": 204,
     "metadata": {},
     "output_type": "execute_result"
    }
   ],
   "source": [
    "date = Date(year=2024, month=9, day=12)\n",
    "phenopackets.Phenopacket(\n",
    "    id=\"1\",\n",
    "    subject=phenopackets.Individual(\n",
    "        id=\"1\",\n",
    "        date_of_birth=date.protobuf_timestamp(),\n",
    "    ),\n",
    "    diseases=[\n",
    "        phenopackets.Disease(\n",
    "            onset=phenopackets.TimeElement(\n",
    "                timestamp=date.protobuf_timestamp()\n",
    "            )\n",
    "        )\n",
    "    ],\n",
    ")"
   ],
   "metadata": {
    "collapsed": false,
    "ExecuteTime": {
     "end_time": "2024-10-04T12:31:25.506864700Z",
     "start_time": "2024-09-25T10:58:31.067923300Z"
    }
   },
   "id": "3c3955e08c725ce9",
   "execution_count": 204
  },
  {
   "cell_type": "code",
   "outputs": [],
   "source": [],
   "metadata": {
    "collapsed": false,
    "ExecuteTime": {
     "end_time": "2024-10-04T12:31:25.506864700Z",
     "start_time": "2024-09-25T10:58:31.097376500Z"
    }
   },
   "id": "bf60852aef44c9ef",
   "execution_count": 204
  }
 ],
 "metadata": {
  "kernelspec": {
   "display_name": "Python 3",
   "language": "python",
   "name": "python3"
  },
  "language_info": {
   "codemirror_mode": {
    "name": "ipython",
    "version": 2
   },
   "file_extension": ".py",
   "mimetype": "text/x-python",
   "name": "python",
   "nbconvert_exporter": "python",
   "pygments_lexer": "ipython2",
   "version": "2.7.6"
  }
 },
 "nbformat": 4,
 "nbformat_minor": 5
}
